{
  "nbformat": 4,
  "nbformat_minor": 0,
  "metadata": {
    "colab": {
      "provenance": [],
      "authorship_tag": "ABX9TyMP+KHljKX5NWMKGXyAy7qb",
      "include_colab_link": true
    },
    "kernelspec": {
      "name": "python3",
      "display_name": "Python 3"
    },
    "language_info": {
      "name": "python"
    }
  },
  "cells": [
    {
      "cell_type": "markdown",
      "metadata": {
        "id": "view-in-github",
        "colab_type": "text"
      },
      "source": [
        "<a href=\"https://colab.research.google.com/github/Kostratana/Bridge_IT/blob/main/Presentation_Bridge_IT.ipynb\" target=\"_parent\"><img src=\"https://colab.research.google.com/assets/colab-badge.svg\" alt=\"Open In Colab\"/></a>"
      ]
    },
    {
      "cell_type": "markdown",
      "source": [
        "Presentation Bridge_IT\n",
        "\n",
        "https://drive.google.com/file/d/1s3unEZ9dZmPPneppqe6HpJQnI2PouxeL/view?usp=sharing"
      ],
      "metadata": {
        "id": "UiR-MktKLUVZ"
      }
    }
  ]
}